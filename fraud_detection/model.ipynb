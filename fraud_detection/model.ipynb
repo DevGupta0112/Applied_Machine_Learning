{
 "cells": [
  {
   "cell_type": "code",
   "execution_count": null,
   "id": "7a302846",
   "metadata": {},
   "outputs": [],
   "source": [
    "fd"
   ]
  }
 ],
 "metadata": {
  "language_info": {
   "name": "python"
  }
 },
 "nbformat": 4,
 "nbformat_minor": 5
}
