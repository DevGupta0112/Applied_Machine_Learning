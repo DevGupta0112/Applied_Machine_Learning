{
 "cells": [
  {
   "cell_type": "markdown",
   "id": "4e1e092f",
   "metadata": {},
   "source": [
    "\n",
    "# 🩺 Diabetes Prediction Project using K-Nearest Neighbors (KNN)\n",
    "This project predicts whether a person has diabetes using the **Pima Indians Diabetes dataset**. We'll use the KNN algorithm and go through:\n",
    "- Data cleaning\n",
    "- Exploratory data analysis (EDA)\n",
    "- Feature scaling\n",
    "- Model training and tuning\n",
    "- Evaluation with metrics\n",
    "- Model export\n"
   ]
  },
  {
   "cell_type": "code",
   "execution_count": null,
   "id": "2dfbee2e",
   "metadata": {},
   "outputs": [],
   "source": [
    "\n",
    "import pandas as pd\n",
    "import numpy as np\n",
    "import matplotlib.pyplot as plt\n",
    "import seaborn as sns\n",
    "from sklearn.model_selection import train_test_split\n",
    "from sklearn.preprocessing import StandardScaler\n",
    "from sklearn.neighbors import KNeighborsClassifier\n",
    "from sklearn.metrics import confusion_matrix, classification_report\n",
    "import joblib\n",
    "\n",
    "sns.set(style='whitegrid')\n"
   ]
  },
  {
   "cell_type": "markdown",
   "id": "82223edc",
   "metadata": {},
   "source": [
    "## 🔍 Load and Inspect the Data"
   ]
  },
  {
   "cell_type": "code",
   "execution_count": null,
   "id": "dccf7913",
   "metadata": {},
   "outputs": [],
   "source": [
    "\n",
    "data = pd.read_csv('diabetes.csv')\n",
    "data.head()\n"
   ]
  },
  {
   "cell_type": "markdown",
   "id": "8b882958",
   "metadata": {},
   "source": [
    "## 🧹 Data Cleaning"
   ]
  },
  {
   "cell_type": "code",
   "execution_count": null,
   "id": "3f86c696",
   "metadata": {},
   "outputs": [],
   "source": [
    "\n",
    "# Replace zeroes with NaN for specific columns\n",
    "cols_with_zeros = ['Glucose', 'BloodPressure', 'SkinThickness', 'Insulin', 'BMI']\n",
    "data[cols_with_zeros] = data[cols_with_zeros].replace(0, np.nan)\n",
    "data.describe()\n"
   ]
  },
  {
   "cell_type": "code",
   "execution_count": null,
   "id": "ccb0713d",
   "metadata": {},
   "outputs": [],
   "source": [
    "\n",
    "# Fill missing values with median\n",
    "data[cols_with_zeros] = data[cols_with_zeros].fillna(data[cols_with_zeros].median())\n"
   ]
  },
  {
   "cell_type": "markdown",
   "id": "37d575aa",
   "metadata": {},
   "source": [
    "## 📊 Exploratory Data Analysis"
   ]
  },
  {
   "cell_type": "code",
   "execution_count": null,
   "id": "3b82e483",
   "metadata": {},
   "outputs": [],
   "source": [
    "\n",
    "plt.figure(figsize=(10,6))\n",
    "sns.countplot(x='Outcome', data=data)\n",
    "plt.title('Class Distribution')\n",
    "plt.show()\n"
   ]
  },
  {
   "cell_type": "markdown",
   "id": "80893f7b",
   "metadata": {},
   "source": [
    "## ⚙️ Feature Scaling"
   ]
  },
  {
   "cell_type": "code",
   "execution_count": null,
   "id": "82db5299",
   "metadata": {},
   "outputs": [],
   "source": [
    "\n",
    "X = data.drop('Outcome', axis=1)\n",
    "y = data['Outcome']\n",
    "\n",
    "scaler = StandardScaler()\n",
    "X_scaled = pd.DataFrame(scaler.fit_transform(X), columns=X.columns)\n"
   ]
  },
  {
   "cell_type": "code",
   "execution_count": null,
   "id": "3bd2583e",
   "metadata": {},
   "outputs": [],
   "source": [
    "\n",
    "X_train, X_test, y_train, y_test = train_test_split(X_scaled, y, test_size=0.2, random_state=42)\n"
   ]
  },
  {
   "cell_type": "markdown",
   "id": "d588e693",
   "metadata": {},
   "source": [
    "## 🤖 Train KNN and Tune K"
   ]
  },
  {
   "cell_type": "code",
   "execution_count": null,
   "id": "6af8dd53",
   "metadata": {},
   "outputs": [],
   "source": [
    "\n",
    "train_scores = []\n",
    "test_scores = []\n",
    "\n",
    "for k in range(1, 15):\n",
    "    knn = KNeighborsClassifier(n_neighbors=k)\n",
    "    knn.fit(X_train, y_train)\n",
    "    train_scores.append(knn.score(X_train, y_train))\n",
    "    test_scores.append(knn.score(X_test, y_test))\n",
    "\n",
    "# Plot accuracy\n",
    "plt.figure(figsize=(10,6))\n",
    "sns.lineplot(x=range(1,15), y=train_scores, marker='*', label='Train Accuracy')\n",
    "sns.lineplot(x=range(1,15), y=test_scores, marker='o', label='Test Accuracy')\n",
    "plt.xlabel(\"K Value\")\n",
    "plt.ylabel(\"Accuracy\")\n",
    "plt.title(\"Train vs Test Accuracy for Different K Values\")\n",
    "plt.legend()\n",
    "plt.show()\n"
   ]
  },
  {
   "cell_type": "markdown",
   "id": "93b8ca06",
   "metadata": {},
   "source": [
    "## 📈 Evaluate Best Model"
   ]
  },
  {
   "cell_type": "code",
   "execution_count": null,
   "id": "7c54cad9",
   "metadata": {},
   "outputs": [],
   "source": [
    "\n",
    "best_k = test_scores.index(max(test_scores)) + 1\n",
    "print(f\"Best k value: {best_k}\")\n",
    "\n",
    "knn = KNeighborsClassifier(n_neighbors=best_k)\n",
    "knn.fit(X_train, y_train)\n",
    "y_pred = knn.predict(X_test)\n",
    "\n",
    "print(\"Confusion Matrix:\")\n",
    "print(confusion_matrix(y_test, y_pred))\n",
    "print(\"\\nClassification Report:\")\n",
    "print(classification_report(y_test, y_pred))\n"
   ]
  },
  {
   "cell_type": "markdown",
   "id": "1ae250f2",
   "metadata": {},
   "source": [
    "## 💾 Save Model and Scaler"
   ]
  },
  {
   "cell_type": "code",
   "execution_count": null,
   "id": "0f38c873",
   "metadata": {},
   "outputs": [],
   "source": [
    "\n",
    "joblib.dump(knn, 'models/diabetes_knn_model.pkl')\n",
    "joblib.dump(scaler, 'models/scaler.pkl')\n"
   ]
  },
  {
   "cell_type": "markdown",
   "id": "43f68a03",
   "metadata": {},
   "source": [
    "## ✅ Conclusion\n",
    "We built a clean KNN classifier that predicts diabetes with solid performance. Ready for deployment or integration into an app."
   ]
  }
 ],
 "metadata": {},
 "nbformat": 4,
 "nbformat_minor": 5
}
